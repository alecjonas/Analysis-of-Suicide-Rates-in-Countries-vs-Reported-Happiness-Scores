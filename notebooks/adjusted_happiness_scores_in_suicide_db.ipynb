{
 "cells": [
  {
   "cell_type": "code",
   "execution_count": 5,
   "metadata": {},
   "outputs": [],
   "source": [
    "import numpy as np\n",
    "import pandas as pd\n",
    "import time\n",
    "from collections import defaultdict\n",
    "import matplotlib.pyplot as plt\n",
    "import argparse\n",
    "plt.rcParams.update({'font.size': 14})"
   ]
  },
  {
   "cell_type": "code",
   "execution_count": 6,
   "metadata": {},
   "outputs": [],
   "source": [
    "h2015 = pd.read_csv('/home/alec/galvanize/capstone/capstone-1/data/2015.csv')\n",
    "h2016= pd.read_csv('/home/alec/galvanize/capstone/capstone-1/data/2016.csv')\n",
    "h2017= pd.read_csv('/home/alec/galvanize/capstone/capstone-1/data/2017.csv')\n",
    "h2018= pd.read_csv('/home/alec/galvanize/capstone/capstone-1/data/2018.csv')\n",
    "h2019= pd.read_csv('/home/alec/galvanize/capstone/capstone-1/data/2019.csv')"
   ]
  },
  {
   "cell_type": "code",
   "execution_count": 36,
   "metadata": {},
   "outputs": [],
   "source": [
    "#Cleaning Data"
   ]
  },
  {
   "cell_type": "code",
   "execution_count": 61,
   "metadata": {
    "scrolled": true
   },
   "outputs": [
    {
     "data": {
      "text/plain": [
       "[Index(['country', 'region', 'happiness_rank', 'happiness_score',\n",
       "        'standard_error', 'economy_gdp_per_capita', 'family',\n",
       "        'health_life_expectancy', 'freedom', 'trust_government_corruption',\n",
       "        'generosity', 'dystopia_residual'],\n",
       "       dtype='object'),\n",
       " Index(['country', 'region', 'happiness_rank', 'happiness_score',\n",
       "        'lower_confidence_interval', 'upper_confidence_interval',\n",
       "        'economy_gdp_per_capita', 'family', 'health_life_expectancy', 'freedom',\n",
       "        'trust_government_corruption', 'generosity', 'dystopia_residual'],\n",
       "       dtype='object'),\n",
       " Index(['country', 'happiness_rank', 'happiness_score', 'whisker_high',\n",
       "        'whisker_low', 'economy__gdp_per_capita_', 'family',\n",
       "        'health__life_expectancy_', 'freedom', 'generosity',\n",
       "        'trust__government_corruption_', 'dystopia_residual'],\n",
       "       dtype='object'),\n",
       " Index(['overall_rank', 'country_or_region', 'score', 'gdp_per_capita',\n",
       "        'social_support', 'healthy_life_expectancy',\n",
       "        'freedom_to_make_life_choices', 'generosity',\n",
       "        'perceptions_of_corruption'],\n",
       "       dtype='object'),\n",
       " Index(['overall_rank', 'country_or_region', 'score', 'gdp_per_capita',\n",
       "        'social_support', 'healthy_life_expectancy',\n",
       "        'freedom_to_make_life_choices', 'generosity',\n",
       "        'perceptions_of_corruption'],\n",
       "       dtype='object')]"
      ]
     },
     "execution_count": 61,
     "metadata": {},
     "output_type": "execute_result"
    }
   ],
   "source": [
    "data = [h2015, h2016, h2017, h2018, h2019]\n",
    "\n",
    "def clean_header(df):\n",
    "    df.columns = df.columns.str.strip().str.lower().str.replace(' ', '_').str.replace('(', '').str.replace(')', '').str.replace('.', '_')\n",
    "    return df.columns\n",
    "\n",
    "[clean_header(i) for i in data]\n"
   ]
  },
  {
   "cell_type": "code",
   "execution_count": 125,
   "metadata": {},
   "outputs": [
    {
     "data": {
      "text/plain": [
       "Index(['country', 'year', 'sex', 'age', 'suicides_no', 'population',\n",
       "       'suicides/100k_pop', 'country-year', 'hdi_for_year', 'gdp_for_year_$',\n",
       "       'gdp_per_capita_$', 'generation'],\n",
       "      dtype='object')"
      ]
     },
     "execution_count": 125,
     "metadata": {},
     "output_type": "execute_result"
    }
   ],
   "source": [
    "clean_header(suicides)"
   ]
  },
  {
   "cell_type": "code",
   "execution_count": null,
   "metadata": {},
   "outputs": [],
   "source": [
    "#Making a cumulative List with country and score"
   ]
  },
  {
   "cell_type": "code",
   "execution_count": 124,
   "metadata": {},
   "outputs": [],
   "source": [
    "h2015_dict = pd.Series(h2015.happiness_score.values,index=h2015.country).to_dict()\n",
    "h2016_dict = pd.Series(h2016.happiness_score.values,index=h2016.country).to_dict()\n",
    "h2017_dict = pd.Series(h2017.happiness_score.values,index=h2017.country).to_dict()\n",
    "h2018_dict = pd.Series(h2018.score.values,index=h2018.country_or_region).to_dict()\n",
    "h2019_dict = pd.Series(h2019.score.values,index=h2019.country_or_region).to_dict()\n",
    "\n",
    "suicides = pd.read_csv('/home/alec/galvanize/capstone/capstone-1/data/master.csv')"
   ]
  },
  {
   "cell_type": "code",
   "execution_count": 68,
   "metadata": {},
   "outputs": [],
   "source": [
    "#Making One Dictionary\n",
    "\n",
    "def one_dict(list_of_dicts):\n",
    "    d={}\n",
    "    for i in list_of_dicts:\n",
    "        for k,v in i.items():\n",
    "            if k not in d:\n",
    "                d[k]=v\n",
    "            if k in d:\n",
    "                d[k]+=v\n",
    "    return d\n"
   ]
  },
  {
   "cell_type": "code",
   "execution_count": 94,
   "metadata": {},
   "outputs": [],
   "source": [
    "def count_of_occurances(list_of_dicts):\n",
    "    d={}\n",
    "    for i in list_of_dicts:\n",
    "        for k,v in i.items():\n",
    "            if k not in d:\n",
    "                d[k]=1\n",
    "            if k in d:\n",
    "                d[k]+=1\n",
    "    return d"
   ]
  },
  {
   "cell_type": "code",
   "execution_count": 126,
   "metadata": {},
   "outputs": [],
   "source": [
    "countries_in_the_suicides_df=suicides.country.unique()\n",
    "list_of_suicide_countries = countries_in_the_suicides_df.tolist()"
   ]
  },
  {
   "cell_type": "code",
   "execution_count": 97,
   "metadata": {},
   "outputs": [],
   "source": [
    "list_of_dicts = [h2015_dict, h2016_dict, h2017_dict, h2018_dict, h2019_dict]\n",
    "\n",
    "cumulative_scores = one_dict(list_of_dicts)\n",
    "count_of_each_country = count_of_occurances(list_of_dicts)"
   ]
  },
  {
   "cell_type": "code",
   "execution_count": 135,
   "metadata": {},
   "outputs": [],
   "source": [
    "def suicide_scrub(dictionary, _list):\n",
    "    d={}\n",
    "    for k,v in dictionary.items():\n",
    "        if k in _list:\n",
    "            d[k]=v\n",
    "    return d\n",
    "    "
   ]
  },
  {
   "cell_type": "code",
   "execution_count": 138,
   "metadata": {},
   "outputs": [],
   "source": [
    "scrubbed_scores = suicide_scrub(cumulative_scores, list_of_suicide_countries)\n",
    "scrubbed_count = suicide_scrub(count_of_each_country, list_of_suicide_countries)"
   ]
  },
  {
   "cell_type": "code",
   "execution_count": 139,
   "metadata": {},
   "outputs": [],
   "source": [
    "def master_happiness_dict(scores, count):\n",
    "    d={}\n",
    "    for k in scores.keys():\n",
    "        d[k]=scores[k]/count[k]\n",
    "    return d"
   ]
  },
  {
   "cell_type": "code",
   "execution_count": 140,
   "metadata": {},
   "outputs": [],
   "source": [
    "master_happy = master_happiness_dict(scrubbed_scores, scrubbed_count)"
   ]
  },
  {
   "cell_type": "code",
   "execution_count": 141,
   "metadata": {},
   "outputs": [],
   "source": [
    "###Note to Alec####Perhaps write a function that can do this for all columns if I want to do some sort of comparison\n",
    "#to something else other than happiness"
   ]
  },
  {
   "cell_type": "code",
   "execution_count": 142,
   "metadata": {},
   "outputs": [],
   "source": [
    "cumulative_happiness = pd.DataFrame(master_happy.items(), columns=['country', 'cumulative_happiness_score'])"
   ]
  },
  {
   "cell_type": "code",
   "execution_count": 143,
   "metadata": {},
   "outputs": [
    {
     "data": {
      "text/html": [
       "<div>\n",
       "<style scoped>\n",
       "    .dataframe tbody tr th:only-of-type {\n",
       "        vertical-align: middle;\n",
       "    }\n",
       "\n",
       "    .dataframe tbody tr th {\n",
       "        vertical-align: top;\n",
       "    }\n",
       "\n",
       "    .dataframe thead th {\n",
       "        text-align: right;\n",
       "    }\n",
       "</style>\n",
       "<table border=\"1\" class=\"dataframe\">\n",
       "  <thead>\n",
       "    <tr style=\"text-align: right;\">\n",
       "      <th></th>\n",
       "      <th>country</th>\n",
       "      <th>cumulative_happiness_score</th>\n",
       "    </tr>\n",
       "  </thead>\n",
       "  <tbody>\n",
       "    <tr>\n",
       "      <td>0</td>\n",
       "      <td>Switzerland</td>\n",
       "      <td>7.524000</td>\n",
       "    </tr>\n",
       "    <tr>\n",
       "      <td>1</td>\n",
       "      <td>Iceland</td>\n",
       "      <td>7.519333</td>\n",
       "    </tr>\n",
       "    <tr>\n",
       "      <td>2</td>\n",
       "      <td>Denmark</td>\n",
       "      <td>7.542833</td>\n",
       "    </tr>\n",
       "    <tr>\n",
       "      <td>3</td>\n",
       "      <td>Norway</td>\n",
       "      <td>7.537833</td>\n",
       "    </tr>\n",
       "    <tr>\n",
       "      <td>4</td>\n",
       "      <td>Canada</td>\n",
       "      <td>7.363333</td>\n",
       "    </tr>\n",
       "    <tr>\n",
       "      <td>...</td>\n",
       "      <td>...</td>\n",
       "      <td>...</td>\n",
       "    </tr>\n",
       "    <tr>\n",
       "      <td>76</td>\n",
       "      <td>Georgia</td>\n",
       "      <td>4.331833</td>\n",
       "    </tr>\n",
       "    <tr>\n",
       "      <td>77</td>\n",
       "      <td>Sri Lanka</td>\n",
       "      <td>4.372333</td>\n",
       "    </tr>\n",
       "    <tr>\n",
       "      <td>78</td>\n",
       "      <td>Bulgaria</td>\n",
       "      <td>4.551833</td>\n",
       "    </tr>\n",
       "    <tr>\n",
       "      <td>79</td>\n",
       "      <td>Puerto Rico</td>\n",
       "      <td>7.039000</td>\n",
       "    </tr>\n",
       "    <tr>\n",
       "      <td>80</td>\n",
       "      <td>Belize</td>\n",
       "      <td>5.956000</td>\n",
       "    </tr>\n",
       "  </tbody>\n",
       "</table>\n",
       "<p>81 rows × 2 columns</p>\n",
       "</div>"
      ],
      "text/plain": [
       "        country  cumulative_happiness_score\n",
       "0   Switzerland                    7.524000\n",
       "1       Iceland                    7.519333\n",
       "2       Denmark                    7.542833\n",
       "3        Norway                    7.537833\n",
       "4        Canada                    7.363333\n",
       "..          ...                         ...\n",
       "76      Georgia                    4.331833\n",
       "77    Sri Lanka                    4.372333\n",
       "78     Bulgaria                    4.551833\n",
       "79  Puerto Rico                    7.039000\n",
       "80       Belize                    5.956000\n",
       "\n",
       "[81 rows x 2 columns]"
      ]
     },
     "execution_count": 143,
     "metadata": {},
     "output_type": "execute_result"
    }
   ],
   "source": [
    "cumulative_happiness"
   ]
  },
  {
   "cell_type": "code",
   "execution_count": null,
   "metadata": {},
   "outputs": [],
   "source": [
    "#cumulative_happines.to_csv(/home/alec/galvanize/capstone/capstone-1/data/adjusted_happiness_index.csv, index = False)"
   ]
  }
 ],
 "metadata": {
  "kernelspec": {
   "display_name": "Python 3",
   "language": "python",
   "name": "python3"
  },
  "language_info": {
   "codemirror_mode": {
    "name": "ipython",
    "version": 3
   },
   "file_extension": ".py",
   "mimetype": "text/x-python",
   "name": "python",
   "nbconvert_exporter": "python",
   "pygments_lexer": "ipython3",
   "version": "3.7.4"
  }
 },
 "nbformat": 4,
 "nbformat_minor": 2
}
