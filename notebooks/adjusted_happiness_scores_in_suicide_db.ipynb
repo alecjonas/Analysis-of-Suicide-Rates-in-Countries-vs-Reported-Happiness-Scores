{
 "cells": [
  {
   "cell_type": "code",
   "execution_count": 1,
   "metadata": {},
   "outputs": [],
   "source": [
    "import numpy as np\n",
    "import pandas as pd\n",
    "import time\n",
    "from collections import defaultdict\n",
    "import matplotlib.pyplot as plt\n",
    "import argparse\n",
    "plt.rcParams.update({'font.size': 24})"
   ]
  },
  {
   "cell_type": "code",
   "execution_count": 2,
   "metadata": {},
   "outputs": [],
   "source": [
    "h2015 = pd.read_csv('/home/alec/galvanize/capstone/capstone_1/data/2015.csv')\n",
    "h2016= pd.read_csv('/home/alec/galvanize/capstone/capstone_1/data/2016.csv')\n",
    "h2017= pd.read_csv('/home/alec/galvanize/capstone/capstone_1/data/2017.csv')\n",
    "h2018= pd.read_csv('/home/alec/galvanize/capstone/capstone_1/data/2018.csv')\n",
    "h2019= pd.read_csv('/home/alec/galvanize/capstone/capstone_1/data/2019.csv')\n",
    "suicides = pd.read_csv('/home/alec/galvanize/capstone/capstone_1/data/master.csv')"
   ]
  },
  {
   "cell_type": "code",
   "execution_count": 3,
   "metadata": {},
   "outputs": [],
   "source": [
    "#Cleaning Data"
   ]
  },
  {
   "cell_type": "code",
   "execution_count": 4,
   "metadata": {},
   "outputs": [
    {
     "data": {
      "text/plain": [
       "[Index(['country', 'region', 'happiness_rank', 'happiness_score',\n",
       "        'standard_error', 'economy_gdp_per_capita', 'family',\n",
       "        'health_life_expectancy', 'freedom', 'trust_government_corruption',\n",
       "        'generosity', 'dystopia_residual'],\n",
       "       dtype='object'),\n",
       " Index(['country', 'region', 'happiness_rank', 'happiness_score',\n",
       "        'lower_confidence_interval', 'upper_confidence_interval',\n",
       "        'economy_gdp_per_capita', 'family', 'health_life_expectancy', 'freedom',\n",
       "        'trust_government_corruption', 'generosity', 'dystopia_residual'],\n",
       "       dtype='object'),\n",
       " Index(['country', 'happiness_rank', 'happiness_score', 'whisker_high',\n",
       "        'whisker_low', 'economy__gdp_per_capita_', 'family',\n",
       "        'health__life_expectancy_', 'freedom', 'generosity',\n",
       "        'trust__government_corruption_', 'dystopia_residual'],\n",
       "       dtype='object'),\n",
       " Index(['overall_rank', 'country_or_region', 'score', 'gdp_per_capita',\n",
       "        'social_support', 'healthy_life_expectancy',\n",
       "        'freedom_to_make_life_choices', 'generosity',\n",
       "        'perceptions_of_corruption'],\n",
       "       dtype='object'),\n",
       " Index(['overall_rank', 'country_or_region', 'score', 'gdp_per_capita',\n",
       "        'social_support', 'healthy_life_expectancy',\n",
       "        'freedom_to_make_life_choices', 'generosity',\n",
       "        'perceptions_of_corruption'],\n",
       "       dtype='object')]"
      ]
     },
     "execution_count": 4,
     "metadata": {},
     "output_type": "execute_result"
    }
   ],
   "source": [
    "data = [h2015, h2016, h2017, h2018, h2019]\n",
    "\n",
    "def clean_header(df):\n",
    "    df.columns = df.columns.str.strip().str.lower().str.replace(' ', '_').str.replace('(', '').str.replace(')', '').str.replace('.', '_')\n",
    "    return df.columns\n",
    "\n",
    "[clean_header(i) for i in data]\n"
   ]
  },
  {
   "cell_type": "code",
   "execution_count": 5,
   "metadata": {},
   "outputs": [
    {
     "data": {
      "text/plain": [
       "Index(['country', 'year', 'sex', 'age', 'suicides_no', 'population',\n",
       "       'suicides/100k_pop', 'country-year', 'hdi_for_year', 'gdp_for_year_$',\n",
       "       'gdp_per_capita_$', 'generation'],\n",
       "      dtype='object')"
      ]
     },
     "execution_count": 5,
     "metadata": {},
     "output_type": "execute_result"
    }
   ],
   "source": [
    "clean_header(suicides)"
   ]
  },
  {
   "cell_type": "code",
   "execution_count": 6,
   "metadata": {},
   "outputs": [],
   "source": [
    "#Making a cumulative List with country and score"
   ]
  },
  {
   "cell_type": "code",
   "execution_count": 7,
   "metadata": {},
   "outputs": [],
   "source": [
    "h2015_dict = pd.Series(h2015.happiness_score.values,index=h2015.country).to_dict()\n",
    "h2016_dict = pd.Series(h2016.happiness_score.values,index=h2016.country).to_dict()\n",
    "h2017_dict = pd.Series(h2017.happiness_score.values,index=h2017.country).to_dict()\n",
    "h2018_dict = pd.Series(h2018.score.values,index=h2018.country_or_region).to_dict()\n",
    "h2019_dict = pd.Series(h2019.score.values,index=h2019.country_or_region).to_dict()\n"
   ]
  },
  {
   "cell_type": "code",
   "execution_count": 8,
   "metadata": {},
   "outputs": [],
   "source": [
    "#Making One Dictionary\n",
    "\n",
    "def one_dict(list_of_dicts):\n",
    "    d={}\n",
    "    for i in list_of_dicts:\n",
    "        for k,v in i.items():\n",
    "            if k not in d:\n",
    "                d[k]=v\n",
    "            if k in d:\n",
    "                d[k]+=v\n",
    "    return d\n"
   ]
  },
  {
   "cell_type": "code",
   "execution_count": 9,
   "metadata": {},
   "outputs": [],
   "source": [
    "def count_of_occurances(list_of_dicts):\n",
    "    d={}\n",
    "    for i in list_of_dicts:\n",
    "        for k,v in i.items():\n",
    "            if k not in d:\n",
    "                d[k]=1\n",
    "            if k in d:\n",
    "                d[k]+=1\n",
    "    return d"
   ]
  },
  {
   "cell_type": "code",
   "execution_count": 10,
   "metadata": {},
   "outputs": [],
   "source": [
    "countries_in_the_suicides_df=suicides.country.unique()\n",
    "list_of_suicide_countries = countries_in_the_suicides_df.tolist()"
   ]
  },
  {
   "cell_type": "code",
   "execution_count": 11,
   "metadata": {},
   "outputs": [],
   "source": [
    "list_of_dicts = [h2015_dict, h2016_dict, h2017_dict, h2018_dict, h2019_dict]\n",
    "\n",
    "cumulative_scores = one_dict(list_of_dicts)\n",
    "count_of_each_country = count_of_occurances(list_of_dicts)"
   ]
  },
  {
   "cell_type": "code",
   "execution_count": 12,
   "metadata": {},
   "outputs": [],
   "source": [
    "def suicide_scrub(dictionary, _list):\n",
    "    d={}\n",
    "    for k,v in dictionary.items():\n",
    "        if k in _list:\n",
    "            d[k]=v\n",
    "    return d\n",
    "    "
   ]
  },
  {
   "cell_type": "code",
   "execution_count": 13,
   "metadata": {},
   "outputs": [],
   "source": [
    "scrubbed_scores = suicide_scrub(cumulative_scores, list_of_suicide_countries)\n",
    "scrubbed_count = suicide_scrub(count_of_each_country, list_of_suicide_countries)"
   ]
  },
  {
   "cell_type": "code",
   "execution_count": 14,
   "metadata": {},
   "outputs": [],
   "source": [
    "def master_happiness_dict(scores, count):\n",
    "    d={}\n",
    "    for k in scores.keys():\n",
    "        d[k]=scores[k]/count[k]\n",
    "    return d"
   ]
  },
  {
   "cell_type": "code",
   "execution_count": 15,
   "metadata": {},
   "outputs": [],
   "source": [
    "master_happy = master_happiness_dict(scrubbed_scores, scrubbed_count)"
   ]
  },
  {
   "cell_type": "code",
   "execution_count": 16,
   "metadata": {},
   "outputs": [],
   "source": [
    "###Note to Alec####Perhaps write a function that can do this for all columns if I want to do some sort of comparison\n",
    "#to something else other than happiness\n"
   ]
  },
  {
   "cell_type": "code",
   "execution_count": 17,
   "metadata": {},
   "outputs": [],
   "source": [
    "s = pd.DataFrame(master_happy.items(), columns=['country', 'cumulative_happiness_score'])"
   ]
  },
  {
   "cell_type": "code",
   "execution_count": 18,
   "metadata": {},
   "outputs": [],
   "source": [
    "cumulative_happiness = s.sort_values(by=['cumulative_happiness_score'], ascending=False)"
   ]
  },
  {
   "cell_type": "code",
   "execution_count": 19,
   "metadata": {},
   "outputs": [
    {
     "data": {
      "text/html": [
       "<div>\n",
       "<style scoped>\n",
       "    .dataframe tbody tr th:only-of-type {\n",
       "        vertical-align: middle;\n",
       "    }\n",
       "\n",
       "    .dataframe tbody tr th {\n",
       "        vertical-align: top;\n",
       "    }\n",
       "\n",
       "    .dataframe thead th {\n",
       "        text-align: right;\n",
       "    }\n",
       "</style>\n",
       "<table border=\"1\" class=\"dataframe\">\n",
       "  <thead>\n",
       "    <tr style=\"text-align: right;\">\n",
       "      <th></th>\n",
       "      <th>country</th>\n",
       "      <th>cumulative_happiness_score</th>\n",
       "    </tr>\n",
       "  </thead>\n",
       "  <tbody>\n",
       "    <tr>\n",
       "      <td>2</td>\n",
       "      <td>Denmark</td>\n",
       "      <td>7.542833</td>\n",
       "    </tr>\n",
       "    <tr>\n",
       "      <td>3</td>\n",
       "      <td>Norway</td>\n",
       "      <td>7.537833</td>\n",
       "    </tr>\n",
       "    <tr>\n",
       "      <td>0</td>\n",
       "      <td>Switzerland</td>\n",
       "      <td>7.524000</td>\n",
       "    </tr>\n",
       "    <tr>\n",
       "      <td>1</td>\n",
       "      <td>Iceland</td>\n",
       "      <td>7.519333</td>\n",
       "    </tr>\n",
       "    <tr>\n",
       "      <td>5</td>\n",
       "      <td>Finland</td>\n",
       "      <td>7.515833</td>\n",
       "    </tr>\n",
       "    <tr>\n",
       "      <td>...</td>\n",
       "      <td>...</td>\n",
       "      <td>...</td>\n",
       "    </tr>\n",
       "    <tr>\n",
       "      <td>78</td>\n",
       "      <td>Bulgaria</td>\n",
       "      <td>4.551833</td>\n",
       "    </tr>\n",
       "    <tr>\n",
       "      <td>75</td>\n",
       "      <td>Armenia</td>\n",
       "      <td>4.386000</td>\n",
       "    </tr>\n",
       "    <tr>\n",
       "      <td>77</td>\n",
       "      <td>Sri Lanka</td>\n",
       "      <td>4.372333</td>\n",
       "    </tr>\n",
       "    <tr>\n",
       "      <td>73</td>\n",
       "      <td>Ukraine</td>\n",
       "      <td>4.369500</td>\n",
       "    </tr>\n",
       "    <tr>\n",
       "      <td>76</td>\n",
       "      <td>Georgia</td>\n",
       "      <td>4.331833</td>\n",
       "    </tr>\n",
       "  </tbody>\n",
       "</table>\n",
       "<p>81 rows × 2 columns</p>\n",
       "</div>"
      ],
      "text/plain": [
       "        country  cumulative_happiness_score\n",
       "2       Denmark                    7.542833\n",
       "3        Norway                    7.537833\n",
       "0   Switzerland                    7.524000\n",
       "1       Iceland                    7.519333\n",
       "5       Finland                    7.515833\n",
       "..          ...                         ...\n",
       "78     Bulgaria                    4.551833\n",
       "75      Armenia                    4.386000\n",
       "77    Sri Lanka                    4.372333\n",
       "73      Ukraine                    4.369500\n",
       "76      Georgia                    4.331833\n",
       "\n",
       "[81 rows x 2 columns]"
      ]
     },
     "execution_count": 19,
     "metadata": {},
     "output_type": "execute_result"
    }
   ],
   "source": [
    "cumulative_happiness"
   ]
  },
  {
   "cell_type": "code",
   "execution_count": 20,
   "metadata": {},
   "outputs": [],
   "source": [
    "#Function that uses above functions to create a DF with any given metric\n",
    "def make_cumulative_df(metric_2015, metric_2016, metric_2017, metric_2018, metric_2019, name_of_column):\n",
    "    list_of_dicts = [metric_2015, metric_2016, metric_2017, metric_2018, metric_2019]\n",
    "    cumulative_scores = one_dict(list_of_dicts)\n",
    "    count_of_each_country = count_of_occurances(list_of_dicts)\n",
    "    scrubbed_scores = suicide_scrub(cumulative_scores, list_of_suicide_countries)\n",
    "    scrubbed_count = suicide_scrub(count_of_each_country, list_of_suicide_countries)\n",
    "    new_df = master_happiness_dict(scrubbed_scores, scrubbed_count)\n",
    "    new_df_with_labels = pd.DataFrame(new_df.items(), columns=['country', name_of_column])\n",
    "    sorted_new_df_with_labels = new_df_with_labels.sort_values(by=[name_of_column], ascending=False)\n",
    "    return sorted_new_df_with_labels"
   ]
  },
  {
   "cell_type": "code",
   "execution_count": 21,
   "metadata": {},
   "outputs": [],
   "source": [
    "#Dict for GDP\n",
    "gdp_2015_dict = pd.Series(h2015.economy_gdp_per_capita.values,index=h2015.country).to_dict()\n",
    "gdp_2016_dict = pd.Series(h2016.economy_gdp_per_capita.values,index=h2016.country).to_dict()\n",
    "gdp_2017_dict = pd.Series(h2017.economy__gdp_per_capita_.values,index=h2017.country).to_dict()\n",
    "gdp_2018_dict = pd.Series(h2018.gdp_per_capita.values,index=h2018.country_or_region).to_dict()\n",
    "gdp_2019_dict = pd.Series(h2019.gdp_per_capita.values,index=h2019.country_or_region).to_dict()\n",
    "\n",
    "cumulative_gdp = make_cumulative_df(gdp_2015_dict, gdp_2016_dict, \n",
    "                                    gdp_2017_dict, gdp_2018_dict, gdp_2019_dict, 'cumulative_gdp')"
   ]
  },
  {
   "cell_type": "code",
   "execution_count": 22,
   "metadata": {},
   "outputs": [],
   "source": [
    "#Dict for Family\n",
    "family_2015_dict = pd.Series(h2015.family.values,index=h2015.country).to_dict()\n",
    "family_2016_dict = pd.Series(h2016.family.values,index=h2016.country).to_dict()\n",
    "family_2017_dict = pd.Series(h2017.family.values,index=h2017.country).to_dict()\n",
    "family_2018_dict = pd.Series(h2018.social_support.values,index=h2018.country_or_region).to_dict()\n",
    "family_2019_dict = pd.Series(h2019.social_support.values,index=h2019.country_or_region).to_dict()\n",
    "\n",
    "cumulative_family = make_cumulative_df(family_2015_dict, family_2016_dict, family_2017_dict, \n",
    "                   family_2018_dict, family_2019_dict, 'cumulative_family')"
   ]
  },
  {
   "cell_type": "code",
   "execution_count": 23,
   "metadata": {},
   "outputs": [],
   "source": [
    "#Dict for health_life_expectancy\n",
    "hle_2015_dict = pd.Series(h2015.health_life_expectancy.values,index=h2015.country).to_dict()\n",
    "hle_2016_dict = pd.Series(h2016.health_life_expectancy.values,index=h2016.country).to_dict()\n",
    "hle_2017_dict = pd.Series(h2017.health__life_expectancy_.values,index=h2017.country).to_dict()\n",
    "hle_2018_dict = pd.Series(h2018.healthy_life_expectancy.values,index=h2018.country_or_region).to_dict()\n",
    "hle_2019_dict = pd.Series(h2019.healthy_life_expectancy.values,index=h2019.country_or_region).to_dict()\n",
    "\n",
    "cumulative_health_life_expectancy = make_cumulative_df(hle_2015_dict,hle_2016_dict, hle_2017_dict, hle_2018_dict, \n",
    "                                                       hle_2019_dict, 'cumulative_health_life_expectancy')"
   ]
  },
  {
   "cell_type": "code",
   "execution_count": 24,
   "metadata": {},
   "outputs": [],
   "source": [
    "#Dict for freedom\n",
    "freedom_2015_dict = pd.Series(h2015.freedom.values,index=h2015.country).to_dict()\n",
    "freedom_2016_dict = pd.Series(h2016.freedom.values,index=h2016.country).to_dict()\n",
    "freedom_2017_dict = pd.Series(h2017.freedom.values,index=h2017.country).to_dict()\n",
    "freedom_2018_dict = pd.Series(h2018.freedom_to_make_life_choices.values,index=h2018.country_or_region).to_dict()\n",
    "freedom_2019_dict = pd.Series(h2019.freedom_to_make_life_choices.values,index=h2019.country_or_region).to_dict()\n",
    "\n",
    "cumulative_freedom = make_cumulative_df(freedom_2015_dict, freedom_2016_dict, freedom_2017_dict, \n",
    "                                                       freedom_2018_dict, freedom_2019_dict, 'cumulative_freedom')"
   ]
  },
  {
   "cell_type": "code",
   "execution_count": 25,
   "metadata": {},
   "outputs": [],
   "source": [
    "# Dict for trust_government_corruption\n",
    "corruption_2015_dict = pd.Series(h2015.trust_government_corruption.values,index=h2015.country).to_dict()\n",
    "corruption_2016_dict = pd.Series(h2016.trust_government_corruption.values,index=h2016.country).to_dict()\n",
    "corruption_2017_dict = pd.Series(h2017.trust__government_corruption_.values,index=h2017.country).to_dict()\n",
    "corruption_2018_dict = pd.Series(h2018.perceptions_of_corruption.values,index=h2018.country_or_region).to_dict()\n",
    "corruption_2019_dict = pd.Series(h2019.perceptions_of_corruption.values,index=h2019.country_or_region).to_dict()\n",
    "\n",
    "cumulative_trust_government_corruption = make_cumulative_df(corruption_2015_dict, corruption_2016_dict, corruption_2017_dict,\n",
    "                                                       corruption_2018_dict, corruption_2019_dict, 'cumulative_corruption')"
   ]
  },
  {
   "cell_type": "code",
   "execution_count": 26,
   "metadata": {},
   "outputs": [],
   "source": [
    "# Dict for generosity\n",
    "generosity_2015_dict = pd.Series(h2015.generosity.values,index=h2015.country).to_dict()\n",
    "generosity_2016_dict = pd.Series(h2016.generosity.values,index=h2016.country).to_dict()\n",
    "generosity_2017_dict = pd.Series(h2017.generosity.values,index=h2017.country).to_dict()\n",
    "generosity_2018_dict = pd.Series(h2018.generosity.values,index=h2018.country_or_region).to_dict()\n",
    "generosity_2019_dict = pd.Series(h2019.generosity.values,index=h2019.country_or_region).to_dict()\n",
    "\n",
    "cumulative_generosity = make_cumulative_df(generosity_2015_dict, generosity_2016_dict, generosity_2017_dict,\n",
    "                                                       generosity_2018_dict, generosity_2019_dict, 'cumulative_generosity')"
   ]
  },
  {
   "cell_type": "code",
   "execution_count": 27,
   "metadata": {},
   "outputs": [
    {
     "data": {
      "text/html": [
       "<div>\n",
       "<style scoped>\n",
       "    .dataframe tbody tr th:only-of-type {\n",
       "        vertical-align: middle;\n",
       "    }\n",
       "\n",
       "    .dataframe tbody tr th {\n",
       "        vertical-align: top;\n",
       "    }\n",
       "\n",
       "    .dataframe thead th {\n",
       "        text-align: right;\n",
       "    }\n",
       "</style>\n",
       "<table border=\"1\" class=\"dataframe\">\n",
       "  <thead>\n",
       "    <tr style=\"text-align: right;\">\n",
       "      <th></th>\n",
       "      <th>country</th>\n",
       "      <th>cumulative_generosity</th>\n",
       "    </tr>\n",
       "  </thead>\n",
       "  <tbody>\n",
       "    <tr>\n",
       "      <td>32</td>\n",
       "      <td>Thailand</td>\n",
       "      <td>0.505781</td>\n",
       "    </tr>\n",
       "    <tr>\n",
       "      <td>34</td>\n",
       "      <td>Malta</td>\n",
       "      <td>0.487190</td>\n",
       "    </tr>\n",
       "    <tr>\n",
       "      <td>20</td>\n",
       "      <td>United Kingdom</td>\n",
       "      <td>0.440429</td>\n",
       "    </tr>\n",
       "    <tr>\n",
       "      <td>8</td>\n",
       "      <td>New Zealand</td>\n",
       "      <td>0.439839</td>\n",
       "    </tr>\n",
       "    <tr>\n",
       "      <td>6</td>\n",
       "      <td>Netherlands</td>\n",
       "      <td>0.425308</td>\n",
       "    </tr>\n",
       "    <tr>\n",
       "      <td>...</td>\n",
       "      <td>...</td>\n",
       "      <td>...</td>\n",
       "    </tr>\n",
       "    <tr>\n",
       "      <td>75</td>\n",
       "      <td>Armenia</td>\n",
       "      <td>0.081753</td>\n",
       "    </tr>\n",
       "    <tr>\n",
       "      <td>61</td>\n",
       "      <td>Azerbaijan</td>\n",
       "      <td>0.053942</td>\n",
       "    </tr>\n",
       "    <tr>\n",
       "      <td>76</td>\n",
       "      <td>Georgia</td>\n",
       "      <td>0.052301</td>\n",
       "    </tr>\n",
       "    <tr>\n",
       "      <td>49</td>\n",
       "      <td>Lithuania</td>\n",
       "      <td>0.025372</td>\n",
       "    </tr>\n",
       "    <tr>\n",
       "      <td>71</td>\n",
       "      <td>Greece</td>\n",
       "      <td>0.000000</td>\n",
       "    </tr>\n",
       "  </tbody>\n",
       "</table>\n",
       "<p>81 rows × 2 columns</p>\n",
       "</div>"
      ],
      "text/plain": [
       "           country  cumulative_generosity\n",
       "32        Thailand               0.505781\n",
       "34           Malta               0.487190\n",
       "20  United Kingdom               0.440429\n",
       "8      New Zealand               0.439839\n",
       "6      Netherlands               0.425308\n",
       "..             ...                    ...\n",
       "75         Armenia               0.081753\n",
       "61      Azerbaijan               0.053942\n",
       "76         Georgia               0.052301\n",
       "49       Lithuania               0.025372\n",
       "71          Greece               0.000000\n",
       "\n",
       "[81 rows x 2 columns]"
      ]
     },
     "execution_count": 27,
     "metadata": {},
     "output_type": "execute_result"
    }
   ],
   "source": [
    "cumulative_generosity"
   ]
  },
  {
   "cell_type": "code",
   "execution_count": 28,
   "metadata": {},
   "outputs": [
    {
     "data": {
      "text/html": [
       "<div>\n",
       "<style scoped>\n",
       "    .dataframe tbody tr th:only-of-type {\n",
       "        vertical-align: middle;\n",
       "    }\n",
       "\n",
       "    .dataframe tbody tr th {\n",
       "        vertical-align: top;\n",
       "    }\n",
       "\n",
       "    .dataframe thead th {\n",
       "        text-align: right;\n",
       "    }\n",
       "</style>\n",
       "<table border=\"1\" class=\"dataframe\">\n",
       "  <thead>\n",
       "    <tr style=\"text-align: right;\">\n",
       "      <th></th>\n",
       "      <th>country</th>\n",
       "      <th>cumulative_gdp</th>\n",
       "    </tr>\n",
       "  </thead>\n",
       "  <tbody>\n",
       "    <tr>\n",
       "      <td>26</td>\n",
       "      <td>Qatar</td>\n",
       "      <td>1.734813</td>\n",
       "    </tr>\n",
       "    <tr>\n",
       "      <td>16</td>\n",
       "      <td>Luxembourg</td>\n",
       "      <td>1.625381</td>\n",
       "    </tr>\n",
       "    <tr>\n",
       "      <td>19</td>\n",
       "      <td>United Arab Emirates</td>\n",
       "      <td>1.608901</td>\n",
       "    </tr>\n",
       "    <tr>\n",
       "      <td>22</td>\n",
       "      <td>Singapore</td>\n",
       "      <td>1.580425</td>\n",
       "    </tr>\n",
       "    <tr>\n",
       "      <td>35</td>\n",
       "      <td>Kuwait</td>\n",
       "      <td>1.555422</td>\n",
       "    </tr>\n",
       "    <tr>\n",
       "      <td>...</td>\n",
       "      <td>...</td>\n",
       "      <td>...</td>\n",
       "    </tr>\n",
       "    <tr>\n",
       "      <td>39</td>\n",
       "      <td>Guatemala</td>\n",
       "      <td>0.796434</td>\n",
       "    </tr>\n",
       "    <tr>\n",
       "      <td>67</td>\n",
       "      <td>Philippines</td>\n",
       "      <td>0.777085</td>\n",
       "    </tr>\n",
       "    <tr>\n",
       "      <td>40</td>\n",
       "      <td>Uzbekistan</td>\n",
       "      <td>0.708539</td>\n",
       "    </tr>\n",
       "    <tr>\n",
       "      <td>50</td>\n",
       "      <td>Nicaragua</td>\n",
       "      <td>0.663273</td>\n",
       "    </tr>\n",
       "    <tr>\n",
       "      <td>60</td>\n",
       "      <td>Kyrgyzstan</td>\n",
       "      <td>0.531037</td>\n",
       "    </tr>\n",
       "  </tbody>\n",
       "</table>\n",
       "<p>81 rows × 2 columns</p>\n",
       "</div>"
      ],
      "text/plain": [
       "                 country  cumulative_gdp\n",
       "26                 Qatar        1.734813\n",
       "16            Luxembourg        1.625381\n",
       "19  United Arab Emirates        1.608901\n",
       "22             Singapore        1.580425\n",
       "35                Kuwait        1.555422\n",
       "..                   ...             ...\n",
       "39             Guatemala        0.796434\n",
       "67           Philippines        0.777085\n",
       "40            Uzbekistan        0.708539\n",
       "50             Nicaragua        0.663273\n",
       "60            Kyrgyzstan        0.531037\n",
       "\n",
       "[81 rows x 2 columns]"
      ]
     },
     "execution_count": 28,
     "metadata": {},
     "output_type": "execute_result"
    }
   ],
   "source": [
    "cumulative_gdp"
   ]
  },
  {
   "cell_type": "code",
   "execution_count": 62,
   "metadata": {},
   "outputs": [
    {
     "data": {
      "text/plain": [
       "1.7348126143391933"
      ]
     },
     "execution_count": 62,
     "metadata": {},
     "output_type": "execute_result"
    }
   ],
   "source": [
    "mask11 = cumulative_gdp['country'] == 'Qatar'\n",
    "cumulative_gdp[mask11].to_numpy().item(1)\n"
   ]
  },
  {
   "cell_type": "code",
   "execution_count": 29,
   "metadata": {
    "collapsed": true
   },
   "outputs": [
    {
     "data": {
      "text/html": [
       "<div>\n",
       "<style scoped>\n",
       "    .dataframe tbody tr th:only-of-type {\n",
       "        vertical-align: middle;\n",
       "    }\n",
       "\n",
       "    .dataframe tbody tr th {\n",
       "        vertical-align: top;\n",
       "    }\n",
       "\n",
       "    .dataframe thead th {\n",
       "        text-align: right;\n",
       "    }\n",
       "</style>\n",
       "<table border=\"1\" class=\"dataframe\">\n",
       "  <thead>\n",
       "    <tr style=\"text-align: right;\">\n",
       "      <th></th>\n",
       "      <th>country</th>\n",
       "      <th>cumulative_family</th>\n",
       "    </tr>\n",
       "  </thead>\n",
       "  <tbody>\n",
       "    <tr>\n",
       "      <td>1</td>\n",
       "      <td>Iceland</td>\n",
       "      <td>1.477716</td>\n",
       "    </tr>\n",
       "    <tr>\n",
       "      <td>2</td>\n",
       "      <td>Denmark</td>\n",
       "      <td>1.433170</td>\n",
       "    </tr>\n",
       "    <tr>\n",
       "      <td>17</td>\n",
       "      <td>Ireland</td>\n",
       "      <td>1.432460</td>\n",
       "    </tr>\n",
       "    <tr>\n",
       "      <td>8</td>\n",
       "      <td>New Zealand</td>\n",
       "      <td>1.419719</td>\n",
       "    </tr>\n",
       "    <tr>\n",
       "      <td>40</td>\n",
       "      <td>Uzbekistan</td>\n",
       "      <td>1.418488</td>\n",
       "    </tr>\n",
       "    <tr>\n",
       "      <td>...</td>\n",
       "      <td>...</td>\n",
       "      <td>...</td>\n",
       "    </tr>\n",
       "    <tr>\n",
       "      <td>36</td>\n",
       "      <td>Suriname</td>\n",
       "      <td>0.907553</td>\n",
       "    </tr>\n",
       "    <tr>\n",
       "      <td>80</td>\n",
       "      <td>Belize</td>\n",
       "      <td>0.888879</td>\n",
       "    </tr>\n",
       "    <tr>\n",
       "      <td>75</td>\n",
       "      <td>Armenia</td>\n",
       "      <td>0.871912</td>\n",
       "    </tr>\n",
       "    <tr>\n",
       "      <td>68</td>\n",
       "      <td>Albania</td>\n",
       "      <td>0.763166</td>\n",
       "    </tr>\n",
       "    <tr>\n",
       "      <td>76</td>\n",
       "      <td>Georgia</td>\n",
       "      <td>0.465391</td>\n",
       "    </tr>\n",
       "  </tbody>\n",
       "</table>\n",
       "<p>81 rows × 2 columns</p>\n",
       "</div>"
      ],
      "text/plain": [
       "        country  cumulative_family\n",
       "1       Iceland           1.477716\n",
       "2       Denmark           1.433170\n",
       "17      Ireland           1.432460\n",
       "8   New Zealand           1.419719\n",
       "40   Uzbekistan           1.418488\n",
       "..          ...                ...\n",
       "36     Suriname           0.907553\n",
       "80       Belize           0.888879\n",
       "75      Armenia           0.871912\n",
       "68      Albania           0.763166\n",
       "76      Georgia           0.465391\n",
       "\n",
       "[81 rows x 2 columns]"
      ]
     },
     "execution_count": 29,
     "metadata": {},
     "output_type": "execute_result"
    }
   ],
   "source": [
    "cumulative_family"
   ]
  },
  {
   "cell_type": "code",
   "execution_count": 93,
   "metadata": {},
   "outputs": [
    {
     "data": {
      "text/plain": [
       "1.1545228132947283"
      ]
     },
     "execution_count": 93,
     "metadata": {},
     "output_type": "execute_result"
    }
   ],
   "source": [
    "mask11 = cumulative_family['country'] == 'Qatar'\n",
    "cumulative_family[mask11].to_numpy().item(1)"
   ]
  },
  {
   "cell_type": "code",
   "execution_count": 30,
   "metadata": {
    "collapsed": true
   },
   "outputs": [
    {
     "data": {
      "text/html": [
       "<div>\n",
       "<style scoped>\n",
       "    .dataframe tbody tr th:only-of-type {\n",
       "        vertical-align: middle;\n",
       "    }\n",
       "\n",
       "    .dataframe tbody tr th {\n",
       "        vertical-align: top;\n",
       "    }\n",
       "\n",
       "    .dataframe thead th {\n",
       "        text-align: right;\n",
       "    }\n",
       "</style>\n",
       "<table border=\"1\" class=\"dataframe\">\n",
       "  <thead>\n",
       "    <tr style=\"text-align: right;\">\n",
       "      <th></th>\n",
       "      <th>country</th>\n",
       "      <th>cumulative_health_life_expectancy</th>\n",
       "    </tr>\n",
       "  </thead>\n",
       "  <tbody>\n",
       "    <tr>\n",
       "      <td>22</td>\n",
       "      <td>Singapore</td>\n",
       "      <td>1.016030</td>\n",
       "    </tr>\n",
       "    <tr>\n",
       "      <td>42</td>\n",
       "      <td>Japan</td>\n",
       "      <td>0.981101</td>\n",
       "    </tr>\n",
       "    <tr>\n",
       "      <td>33</td>\n",
       "      <td>Spain</td>\n",
       "      <td>0.951027</td>\n",
       "    </tr>\n",
       "    <tr>\n",
       "      <td>45</td>\n",
       "      <td>Italy</td>\n",
       "      <td>0.933014</td>\n",
       "    </tr>\n",
       "    <tr>\n",
       "      <td>0</td>\n",
       "      <td>Switzerland</td>\n",
       "      <td>0.930504</td>\n",
       "    </tr>\n",
       "    <tr>\n",
       "      <td>...</td>\n",
       "      <td>...</td>\n",
       "      <td>...</td>\n",
       "    </tr>\n",
       "    <tr>\n",
       "      <td>37</td>\n",
       "      <td>Trinidad and Tobago</td>\n",
       "      <td>0.568931</td>\n",
       "    </tr>\n",
       "    <tr>\n",
       "      <td>67</td>\n",
       "      <td>Philippines</td>\n",
       "      <td>0.545108</td>\n",
       "    </tr>\n",
       "    <tr>\n",
       "      <td>56</td>\n",
       "      <td>Turkmenistan</td>\n",
       "      <td>0.521584</td>\n",
       "    </tr>\n",
       "    <tr>\n",
       "      <td>80</td>\n",
       "      <td>Belize</td>\n",
       "      <td>0.458893</td>\n",
       "    </tr>\n",
       "    <tr>\n",
       "      <td>74</td>\n",
       "      <td>South Africa</td>\n",
       "      <td>0.287658</td>\n",
       "    </tr>\n",
       "  </tbody>\n",
       "</table>\n",
       "<p>81 rows × 2 columns</p>\n",
       "</div>"
      ],
      "text/plain": [
       "                country  cumulative_health_life_expectancy\n",
       "22            Singapore                           1.016030\n",
       "42                Japan                           0.981101\n",
       "33                Spain                           0.951027\n",
       "45                Italy                           0.933014\n",
       "0           Switzerland                           0.930504\n",
       "..                  ...                                ...\n",
       "37  Trinidad and Tobago                           0.568931\n",
       "67          Philippines                           0.545108\n",
       "56         Turkmenistan                           0.521584\n",
       "80               Belize                           0.458893\n",
       "74         South Africa                           0.287658\n",
       "\n",
       "[81 rows x 2 columns]"
      ]
     },
     "execution_count": 30,
     "metadata": {},
     "output_type": "execute_result"
    }
   ],
   "source": [
    "cumulative_health_life_expectancy"
   ]
  },
  {
   "cell_type": "code",
   "execution_count": 31,
   "metadata": {
    "collapsed": true
   },
   "outputs": [
    {
     "data": {
      "text/html": [
       "<div>\n",
       "<style scoped>\n",
       "    .dataframe tbody tr th:only-of-type {\n",
       "        vertical-align: middle;\n",
       "    }\n",
       "\n",
       "    .dataframe tbody tr th {\n",
       "        vertical-align: top;\n",
       "    }\n",
       "\n",
       "    .dataframe thead th {\n",
       "        text-align: right;\n",
       "    }\n",
       "</style>\n",
       "<table border=\"1\" class=\"dataframe\">\n",
       "  <thead>\n",
       "    <tr style=\"text-align: right;\">\n",
       "      <th></th>\n",
       "      <th>country</th>\n",
       "      <th>cumulative_freedom</th>\n",
       "    </tr>\n",
       "  </thead>\n",
       "  <tbody>\n",
       "    <tr>\n",
       "      <td>40</td>\n",
       "      <td>Uzbekistan</td>\n",
       "      <td>0.656358</td>\n",
       "    </tr>\n",
       "    <tr>\n",
       "      <td>3</td>\n",
       "      <td>Norway</td>\n",
       "      <td>0.643329</td>\n",
       "    </tr>\n",
       "    <tr>\n",
       "      <td>21</td>\n",
       "      <td>Oman</td>\n",
       "      <td>0.632740</td>\n",
       "    </tr>\n",
       "    <tr>\n",
       "      <td>2</td>\n",
       "      <td>Denmark</td>\n",
       "      <td>0.629863</td>\n",
       "    </tr>\n",
       "    <tr>\n",
       "      <td>0</td>\n",
       "      <td>Switzerland</td>\n",
       "      <td>0.628130</td>\n",
       "    </tr>\n",
       "    <tr>\n",
       "      <td>...</td>\n",
       "      <td>...</td>\n",
       "      <td>...</td>\n",
       "    </tr>\n",
       "    <tr>\n",
       "      <td>75</td>\n",
       "      <td>Armenia</td>\n",
       "      <td>0.213102</td>\n",
       "    </tr>\n",
       "    <tr>\n",
       "      <td>62</td>\n",
       "      <td>Montenegro</td>\n",
       "      <td>0.194550</td>\n",
       "    </tr>\n",
       "    <tr>\n",
       "      <td>73</td>\n",
       "      <td>Ukraine</td>\n",
       "      <td>0.182504</td>\n",
       "    </tr>\n",
       "    <tr>\n",
       "      <td>69</td>\n",
       "      <td>Bosnia and Herzegovina</td>\n",
       "      <td>0.162736</td>\n",
       "    </tr>\n",
       "    <tr>\n",
       "      <td>71</td>\n",
       "      <td>Greece</td>\n",
       "      <td>0.084322</td>\n",
       "    </tr>\n",
       "  </tbody>\n",
       "</table>\n",
       "<p>81 rows × 2 columns</p>\n",
       "</div>"
      ],
      "text/plain": [
       "                   country  cumulative_freedom\n",
       "40              Uzbekistan            0.656358\n",
       "3                   Norway            0.643329\n",
       "21                    Oman            0.632740\n",
       "2                  Denmark            0.629863\n",
       "0              Switzerland            0.628130\n",
       "..                     ...                 ...\n",
       "75                 Armenia            0.213102\n",
       "62              Montenegro            0.194550\n",
       "73                 Ukraine            0.182504\n",
       "69  Bosnia and Herzegovina            0.162736\n",
       "71                  Greece            0.084322\n",
       "\n",
       "[81 rows x 2 columns]"
      ]
     },
     "execution_count": 31,
     "metadata": {},
     "output_type": "execute_result"
    }
   ],
   "source": [
    "cumulative_freedom"
   ]
  },
  {
   "cell_type": "code",
   "execution_count": 32,
   "metadata": {
    "collapsed": true
   },
   "outputs": [
    {
     "data": {
      "text/html": [
       "<div>\n",
       "<style scoped>\n",
       "    .dataframe tbody tr th:only-of-type {\n",
       "        vertical-align: middle;\n",
       "    }\n",
       "\n",
       "    .dataframe tbody tr th {\n",
       "        vertical-align: top;\n",
       "    }\n",
       "\n",
       "    .dataframe thead th {\n",
       "        text-align: right;\n",
       "    }\n",
       "</style>\n",
       "<table border=\"1\" class=\"dataframe\">\n",
       "  <thead>\n",
       "    <tr style=\"text-align: right;\">\n",
       "      <th></th>\n",
       "      <th>country</th>\n",
       "      <th>cumulative_corruption</th>\n",
       "    </tr>\n",
       "  </thead>\n",
       "  <tbody>\n",
       "    <tr>\n",
       "      <td>22</td>\n",
       "      <td>Singapore</td>\n",
       "      <td>0.471396</td>\n",
       "    </tr>\n",
       "    <tr>\n",
       "      <td>2</td>\n",
       "      <td>Denmark</td>\n",
       "      <td>0.438407</td>\n",
       "    </tr>\n",
       "    <tr>\n",
       "      <td>8</td>\n",
       "      <td>New Zealand</td>\n",
       "      <td>0.404883</td>\n",
       "    </tr>\n",
       "    <tr>\n",
       "      <td>7</td>\n",
       "      <td>Sweden</td>\n",
       "      <td>0.404325</td>\n",
       "    </tr>\n",
       "    <tr>\n",
       "      <td>5</td>\n",
       "      <td>Finland</td>\n",
       "      <td>0.401015</td>\n",
       "    </tr>\n",
       "    <tr>\n",
       "      <td>...</td>\n",
       "      <td>...</td>\n",
       "      <td>...</td>\n",
       "    </tr>\n",
       "    <tr>\n",
       "      <td>37</td>\n",
       "      <td>Trinidad and Tobago</td>\n",
       "      <td>0.011044</td>\n",
       "    </tr>\n",
       "    <tr>\n",
       "      <td>78</td>\n",
       "      <td>Bulgaria</td>\n",
       "      <td>0.007940</td>\n",
       "    </tr>\n",
       "    <tr>\n",
       "      <td>63</td>\n",
       "      <td>Romania</td>\n",
       "      <td>0.005026</td>\n",
       "    </tr>\n",
       "    <tr>\n",
       "      <td>69</td>\n",
       "      <td>Bosnia and Herzegovina</td>\n",
       "      <td>0.001757</td>\n",
       "    </tr>\n",
       "    <tr>\n",
       "      <td>19</td>\n",
       "      <td>United Arab Emirates</td>\n",
       "      <td>NaN</td>\n",
       "    </tr>\n",
       "  </tbody>\n",
       "</table>\n",
       "<p>81 rows × 2 columns</p>\n",
       "</div>"
      ],
      "text/plain": [
       "                   country  cumulative_corruption\n",
       "22               Singapore               0.471396\n",
       "2                  Denmark               0.438407\n",
       "8              New Zealand               0.404883\n",
       "7                   Sweden               0.404325\n",
       "5                  Finland               0.401015\n",
       "..                     ...                    ...\n",
       "37     Trinidad and Tobago               0.011044\n",
       "78                Bulgaria               0.007940\n",
       "63                 Romania               0.005026\n",
       "69  Bosnia and Herzegovina               0.001757\n",
       "19    United Arab Emirates                    NaN\n",
       "\n",
       "[81 rows x 2 columns]"
      ]
     },
     "execution_count": 32,
     "metadata": {},
     "output_type": "execute_result"
    }
   ],
   "source": [
    "cumulative_trust_government_corruption"
   ]
  },
  {
   "cell_type": "code",
   "execution_count": 86,
   "metadata": {},
   "outputs": [
    {
     "data": {
      "text/html": [
       "<div>\n",
       "<style scoped>\n",
       "    .dataframe tbody tr th:only-of-type {\n",
       "        vertical-align: middle;\n",
       "    }\n",
       "\n",
       "    .dataframe tbody tr th {\n",
       "        vertical-align: top;\n",
       "    }\n",
       "\n",
       "    .dataframe thead th {\n",
       "        text-align: right;\n",
       "    }\n",
       "</style>\n",
       "<table border=\"1\" class=\"dataframe\">\n",
       "  <thead>\n",
       "    <tr style=\"text-align: right;\">\n",
       "      <th></th>\n",
       "      <th>country</th>\n",
       "      <th>cumulative_happiness_score</th>\n",
       "    </tr>\n",
       "  </thead>\n",
       "  <tbody>\n",
       "    <tr>\n",
       "      <td>2</td>\n",
       "      <td>Denmark</td>\n",
       "      <td>7.542833</td>\n",
       "    </tr>\n",
       "    <tr>\n",
       "      <td>3</td>\n",
       "      <td>Norway</td>\n",
       "      <td>7.537833</td>\n",
       "    </tr>\n",
       "    <tr>\n",
       "      <td>0</td>\n",
       "      <td>Switzerland</td>\n",
       "      <td>7.524000</td>\n",
       "    </tr>\n",
       "    <tr>\n",
       "      <td>1</td>\n",
       "      <td>Iceland</td>\n",
       "      <td>7.519333</td>\n",
       "    </tr>\n",
       "    <tr>\n",
       "      <td>5</td>\n",
       "      <td>Finland</td>\n",
       "      <td>7.515833</td>\n",
       "    </tr>\n",
       "    <tr>\n",
       "      <td>...</td>\n",
       "      <td>...</td>\n",
       "      <td>...</td>\n",
       "    </tr>\n",
       "    <tr>\n",
       "      <td>78</td>\n",
       "      <td>Bulgaria</td>\n",
       "      <td>4.551833</td>\n",
       "    </tr>\n",
       "    <tr>\n",
       "      <td>75</td>\n",
       "      <td>Armenia</td>\n",
       "      <td>4.386000</td>\n",
       "    </tr>\n",
       "    <tr>\n",
       "      <td>77</td>\n",
       "      <td>Sri Lanka</td>\n",
       "      <td>4.372333</td>\n",
       "    </tr>\n",
       "    <tr>\n",
       "      <td>73</td>\n",
       "      <td>Ukraine</td>\n",
       "      <td>4.369500</td>\n",
       "    </tr>\n",
       "    <tr>\n",
       "      <td>76</td>\n",
       "      <td>Georgia</td>\n",
       "      <td>4.331833</td>\n",
       "    </tr>\n",
       "  </tbody>\n",
       "</table>\n",
       "<p>81 rows × 2 columns</p>\n",
       "</div>"
      ],
      "text/plain": [
       "        country  cumulative_happiness_score\n",
       "2       Denmark                    7.542833\n",
       "3        Norway                    7.537833\n",
       "0   Switzerland                    7.524000\n",
       "1       Iceland                    7.519333\n",
       "5       Finland                    7.515833\n",
       "..          ...                         ...\n",
       "78     Bulgaria                    4.551833\n",
       "75      Armenia                    4.386000\n",
       "77    Sri Lanka                    4.372333\n",
       "73      Ukraine                    4.369500\n",
       "76      Georgia                    4.331833\n",
       "\n",
       "[81 rows x 2 columns]"
      ]
     },
     "execution_count": 86,
     "metadata": {},
     "output_type": "execute_result"
    }
   ],
   "source": [
    "cumulative_happiness"
   ]
  },
  {
   "cell_type": "code",
   "execution_count": 33,
   "metadata": {},
   "outputs": [],
   "source": [
    "top_10_country_list = ['Denmark','Norway','Switzerland','Iceland','Finland','Netherlands',\n",
    "                       'Canada','Sweden','New Zealand','Australia']\n",
    "\n",
    "bottom_10_country_list = ['Bosnia and Herzegovina' ,'Greece', 'Mongolia','South Africa',\n",
    "                          'Bulgaria','Armenia','Sri Lanka' ,'Ukraine' ,'Georgia','Albania']"
   ]
  },
  {
   "cell_type": "code",
   "execution_count": 34,
   "metadata": {},
   "outputs": [],
   "source": [
    "#Plots one metric at a time, now want to do one that plots all of them on one chart##Don't Include This one\n",
    "\n",
    "def compare_metric_to_happiness(cumulative_metric_df, column_name2):\n",
    "    top_10_country_mask = cumulative_metric_df['country'].isin(top_10_country_list)\n",
    "    top_10_country = cumulative_metric_df.loc[top_10_country_mask, :]\n",
    "    top_10_avg = top_10_country[column_name2].mean()\n",
    "    \n",
    "    bottom_10_country_mask = cumulative_metric_df['country'].isin(bottom_10_country_list)\n",
    "    bottom_10_country = cumulative_metric_df.loc[bottom_10_country_mask, :]\n",
    "    bottom_10_avg = bottom_10_country[column_name2].mean()\n",
    "\n",
    "    fig, ax = plt.subplots()\n",
    "    ax.bar(1, top_10_avg, label='Top 10 Happy Countries')\n",
    "    ax.bar(2, bottom_10_avg, label='Bottom 10 Happy Countries')\n",
    "    ax.set_title(f'Extent by which {column_name2} \\n Contributes to Happiness')\n",
    "    ax.legend()\n",
    "    plt.show()"
   ]
  },
  {
   "cell_type": "code",
   "execution_count": 35,
   "metadata": {},
   "outputs": [],
   "source": [
    "#Include This One In Script\n",
    "def compare_all_metrics_to_happiness(cumulative_metric_df, column_name2):\n",
    "    top_10_country_mask = cumulative_metric_df['country'].isin(top_10_country_list)\n",
    "    top_10_country = cumulative_metric_df.loc[top_10_country_mask, :]\n",
    "    top_10_avg = top_10_country[column_name2].mean()\n",
    "    \n",
    "    bottom_10_country_mask = cumulative_metric_df['country'].isin(bottom_10_country_list)\n",
    "    bottom_10_country = cumulative_metric_df.loc[bottom_10_country_mask, :]\n",
    "    bottom_10_avg = bottom_10_country[column_name2].mean()\n",
    "    \n",
    "    return top_10_avg, bottom_10_avg\n",
    "\n",
    "def make_metric_graphs(nested_list_of_metric_dfs_and_column_names):\n",
    "    list_of_metric_graphs = [compare_all_metrics_to_happiness(i[0], i[1]) for i in nested_list_of_metric_dfs_and_column_names]\n",
    "    return list_of_metric_graphs"
   ]
  },
  {
   "cell_type": "code",
   "execution_count": 36,
   "metadata": {},
   "outputs": [],
   "source": [
    "nested_list_of_metric_dfs_and_column_names=[[cumulative_happiness, 'cumulative_happiness_score'],\n",
    "                                            [cumulative_gdp, 'cumulative_gdp'],\n",
    "                                            [cumulative_generosity, 'cumulative_generosity'],\n",
    "                                            [cumulative_family, 'cumulative_family'],\n",
    "                                            [cumulative_health_life_expectancy, 'cumulative_health_life_expectancy'],\n",
    "                                            [cumulative_freedom, 'cumulative_freedom'],\n",
    "                                            [cumulative_trust_government_corruption, 'cumulative_corruption']\n",
    "                                           ]"
   ]
  },
  {
   "cell_type": "code",
   "execution_count": 37,
   "metadata": {},
   "outputs": [],
   "source": [
    "hap1, gdp1, gen1, fam1, heal1, free1, trust1 = make_metric_graphs(nested_list_of_metric_dfs_and_column_names)"
   ]
  },
  {
   "cell_type": "code",
   "execution_count": 149,
   "metadata": {},
   "outputs": [
    {
     "name": "stderr",
     "output_type": "stream",
     "text": [
      "/home/alec/anaconda3/lib/python3.7/site-packages/ipykernel_launcher.py:16: MatplotlibDeprecationWarning: Automatic legend placement (loc='best') not implemented for figure legend. Falling back on 'upper right'. This will raise an exception in 3.3.\n",
      "  app.launch_new_instance()\n"
     ]
    },
    {
     "data": {
      "image/png": "[encoded data removed]",
      "text/plain": [
       "<Figure size 2160x1584 with 7 Axes>"
      ]
     },
     "metadata": {
      "needs_background": "light"
     },
     "output_type": "display_data"
    }
   ],
   "source": [
    "#USE#\n",
    "\n",
    "fig, axs = plt.subplots(2,4, figsize=(30,22))\n",
    "fig.delaxes(axs[1,3])\n",
    "axs=axs.flatten()\n",
    "idx=0\n",
    "for i,df in enumerate([hap1, gdp1, gen1, fam1, heal1, free1, trust1]):\n",
    "    l1 = axs[i].bar(1, df[0], label='Top 10 Happy Countries', color='orangered')\n",
    "    l2 = axs[i].bar(2, df[1], label='Bottom 10 Happy Countries', color='steelblue')\n",
    "    axs[i].set_title(f'{nested_list_of_metric_dfs_and_column_names[idx][1]}', size = 24)\n",
    "    #axs[i].legend()\n",
    "    idx+=1\n",
    "fig.suptitle('Various Metrics Compared Between \\n Top and Bottom 10 Happy Countries', size=42)\n",
    "fig.text(0.04, 0.5, 'Extend by which factor contributes to overall happiness', \n",
    "         va='center', rotation='vertical', fontsize=29)\n",
    "fig.legend(handles=(l1, l2), loc=0, bbox_to_anchor=(.85, 0.25), fontsize=20)\n",
    "plt.savefig('/home/alec/galvanize/capstone/capstone_1/images/various_metric_bar_graph')\n",
    "plt.show()"
   ]
  },
  {
   "cell_type": "code",
   "execution_count": 136,
   "metadata": {},
   "outputs": [],
   "source": [
    "class Country():\n",
    "    \n",
    "    def __init__(self, country):\n",
    "        happiness_metric = cumulative_happiness[cumulative_happiness['country'] == country].to_numpy().item(1)\n",
    "        gdp_metric = cumulative_gdp[cumulative_gdp['country'] == country].to_numpy().item(1)\n",
    "        generosity_metric = cumulative_generosity[cumulative_generosity['country'] == country].to_numpy().item(1)\n",
    "        family_metric = cumulative_family[cumulative_family['country'] == country].to_numpy().item(1)\n",
    "        health_life_expectancy_metric = cumulative_health_life_expectancy[cumulative_health_life_expectancy['country'] == country].to_numpy().item(1)\n",
    "        freedom_metric = cumulative_freedom[cumulative_freedom['country'] == country].to_numpy().item(1)\n",
    "        corruption_metric = cumulative_trust_government_corruption[cumulative_trust_government_corruption['country'] == country].to_numpy().item(1)\n",
    "        \n",
    "        self.score = [f'Happiness Score is {happiness_metric}', \n",
    "                      f'GDP Weight is {gdp_metric}', \n",
    "                      f'Generosity Weight is {generosity_metric}', \n",
    "                      f'Family Weight is {family_metric}', \n",
    "                      f'Health and Life Expectancy Weight is {health_life_expectancy_metric}', \n",
    "                      f'Freedom Weight is {freedom_metric}', \n",
    "                      f'Corruption and Government Trust Weight is {corruption_metric}'\n",
    "                     ]\n",
    "        self.variables = [happiness_metric, \n",
    "                      gdp_metric, \n",
    "                      generosity_metric, \n",
    "                      family_metric, \n",
    "                      health_life_expectancy_metric, \n",
    "                      freedom_metric, \n",
    "                      corruption_metric\n",
    "                     ]\n",
    "        self.gdp = cumulative_gdp[cumulative_gdp['country'] == country].to_numpy().item(1)\n",
    "        self.generosity = cumulative_generosity[cumulative_generosity['country'] == country].to_numpy().item(1)\n",
    "        self.family = cumulative_family[cumulative_family['country'] == country].to_numpy().item(1)\n",
    "        self.health_life_expectancy = cumulative_health_life_expectancy[cumulative_health_life_expectancy['country'] == country].to_numpy().item(1)\n",
    "        self.happiness = cumulative_happiness[cumulative_happiness['country'] == country].to_numpy().item(1)\n",
    "        self.trust_government_corruption = cumulative_trust_government_corruption[cumulative_trust_government_corruption['country'] == country].to_numpy().item(1)\n",
    "        self.freedom = cumulative_freedom[cumulative_freedom['country'] == country].to_numpy().item(1)\n",
    "    "
   ]
  },
  {
   "cell_type": "code",
   "execution_count": 140,
   "metadata": {},
   "outputs": [
    {
     "data": {
      "text/plain": [
       "['Happiness Score is 6.453333333333334',\n",
       " 'GDP Weight is 1.7348126143391933',\n",
       " 'Generosity Weight is 0.296968978339831',\n",
       " 'Family Weight is 1.1545228132947283',\n",
       " 'Health and Life Expectancy Weight is 0.7734980146312713',\n",
       " 'Freedom Weight is 0.6101201638921102',\n",
       " 'Corruption and Government Trust Weight is 0.38365820926825195']"
      ]
     },
     "execution_count": 140,
     "metadata": {},
     "output_type": "execute_result"
    }
   ],
   "source": [
    "Qatar=Country('Qatar')\n",
    "#Qatar.gdp_calc('Qatar')\n",
    "Qatar.score"
   ]
  },
  {
   "cell_type": "code",
   "execution_count": 141,
   "metadata": {},
   "outputs": [],
   "source": [
    "def compare_two_variables(country1, country2):\n",
    "    y1 = Country(country1)\n",
    "    y2 = Country(country2)\n",
    "    \n",
    "    fig, ax = plt.subplots()\n",
    "    ax.bar(1, y1)\n",
    "    ax.bar(2,y2)\n",
    "    plt.show()"
   ]
  },
  {
   "cell_type": "code",
   "execution_count": null,
   "metadata": {},
   "outputs": [],
   "source": [
    "compare_two_variables('United States','Qatar')"
   ]
  }
 ],
 "metadata": {
  "kernelspec": {
   "display_name": "Python 3",
   "language": "python",
   "name": "python3"
  },
  "language_info": {
   "codemirror_mode": {
    "name": "ipython",
    "version": 3
   },
   "file_extension": ".py",
   "mimetype": "text/x-python",
   "name": "python",
   "nbconvert_exporter": "python",
   "pygments_lexer": "ipython3",
   "version": "3.7.4"
  }
 },
 "nbformat": 4,
 "nbformat_minor": 2
}
